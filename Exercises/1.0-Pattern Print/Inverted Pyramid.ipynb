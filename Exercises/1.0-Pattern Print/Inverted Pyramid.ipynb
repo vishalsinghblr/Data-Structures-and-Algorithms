{
 "cells": [
  {
   "cell_type": "markdown",
   "metadata": {},
   "source": [
    "#### Inverted Pyramid Pattern\n",
    "\n",
    "Problem Description\n",
    "\n",
    "You are given an integer n. Your task is to return an inverted pyramid pattern of '*', where each side has n rows, represented as a list of strings. The first row has 2n - 1 stars, the second row has 2n - 3 stars, and so on, until the last row has 1 star, with each row centered using spaces.\n",
    "\n",
    "\n",
    "Input Parameters:\n",
    "\n",
    "    n (int): The number of rows in the inverted pyramid.\n",
    "\n",
    "\n",
    "Output:\n",
    "\n",
    "    A list of strings where each string represents a row of the inverted pyramid.\n",
    "\n",
    "\n",
    "Example:\n",
    "\n",
    "    Input: 3\n",
    "    Output: ['*****', ' *** ', '  *  ']\n",
    "\n",
    "    Input: 5\n",
    "    Output: ['*********', ' ******* ', '  *****  ', '   ***   ', '    *    ']\n"
   ]
  },
  {
   "cell_type": "code",
   "execution_count": 1,
   "metadata": {},
   "outputs": [],
   "source": [
    "def generate_inverted_pyramid(n):\n",
    "    \"\"\"\n",
    "    Function to return an inverted pyramid pattern of '*' of side n as a list of strings.\n",
    "    \n",
    "    Parameters:\n",
    "    n (int): The number of rows in the inverted pyramid.\n",
    "    \n",
    "    Returns:\n",
    "    list: A list of strings where each string represents a row of the inverted pyramid.\n",
    "    \"\"\"\n",
    "    # Initialize an empty list to store the rows of the pyramid\n",
    "    pyramid = []\n",
    "    \n",
    "    # Loop through each row from 1 to n\n",
    "    for i in range(1, n + 1):\n",
    "        # Number of stars in the current row is 2 * (n - i + 1) - 1\n",
    "        stars = '*' * (2 * (n - i + 1) - 1)\n",
    "        # Number of leading spaces to center the stars is i - 1\n",
    "        spaces = ' ' * (i - 1)\n",
    "        # Add the centered row to the list\n",
    "        pyramid.append(spaces + stars + spaces)\n",
    "    \n",
    "    # Return the list of pyramid rows\n",
    "    return pyramid"
   ]
  },
  {
   "cell_type": "code",
   "execution_count": 2,
   "metadata": {},
   "outputs": [
    {
     "data": {
      "text/plain": [
       "['*********', ' ******* ', '  *****  ', '   ***   ', '    *    ']"
      ]
     },
     "execution_count": 2,
     "metadata": {},
     "output_type": "execute_result"
    }
   ],
   "source": [
    "generate_inverted_pyramid(5)"
   ]
  }
 ],
 "metadata": {
  "kernelspec": {
   "display_name": "myenv",
   "language": "python",
   "name": "python3"
  },
  "language_info": {
   "codemirror_mode": {
    "name": "ipython",
    "version": 3
   },
   "file_extension": ".py",
   "mimetype": "text/x-python",
   "name": "python",
   "nbconvert_exporter": "python",
   "pygments_lexer": "ipython3",
   "version": "3.10.9"
  }
 },
 "nbformat": 4,
 "nbformat_minor": 2
}
