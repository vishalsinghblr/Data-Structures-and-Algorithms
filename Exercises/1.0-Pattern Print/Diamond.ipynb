{
 "cells": [
  {
   "cell_type": "markdown",
   "metadata": {},
   "source": [
    "#### Diamond Pattern\n",
    "\n",
    "Problem Description:\n",
    "\n",
    "You are given an integer n. Your task is to return a diamond pattern of '*' with n rows for the upper part (the widest row will have 2n - 1 stars), and the lower part is the mirrored version of the upper part. Each row should be centered with appropriate spaces.\n",
    "\n",
    "\n",
    "Input:\n",
    "\n",
    "    A single integer n, where 1 <= n <= 100.\n",
    "\n",
    "\n",
    "Output:\n",
    "\n",
    "    A list of strings where each string represents a row in the diamond pattern.\n",
    "\n",
    "\n",
    "Example:\n",
    "\n",
    "    Input: 3\n",
    "    Output: ['  *  ', ' *** ', '*****', ' *** ', '  *  ']\n",
    "\n",
    "    Input: 5\n",
    "    Output: ['    *    ', '   ***   ', '  *****  ', ' ******* ', '*********', ' ******* ', '  *****  ', '   ***   ', '    *    ']"
   ]
  },
  {
   "cell_type": "code",
   "execution_count": 1,
   "metadata": {},
   "outputs": [],
   "source": [
    "def generate_diamond(n):\n",
    "    \"\"\"\n",
    "    Function to return a diamond pattern of '*' of side n as a list of strings.\n",
    "    \n",
    "    Parameters:\n",
    "    n (int): The number of rows for the upper part of the diamond.\n",
    "    \n",
    "    Returns:\n",
    "    list: A list of strings where each string represents a row of the diamond.\n",
    "    \"\"\"\n",
    "    # Initialize an empty list to store the rows of the diamond\n",
    "    diamond = []\n",
    "    \n",
    "    # Generate the upper part of the diamond (including the middle row)\n",
    "    for i in range(1, n + 1):\n",
    "        # Number of stars in the current row is 2 * i - 1\n",
    "        stars = '*' * (2 * i - 1)\n",
    "        # Number of leading spaces to center the stars is n - i\n",
    "        spaces = ' ' * (n - i)\n",
    "        # Add the centered row to the list\n",
    "        diamond.append(spaces + stars + spaces)\n",
    "    \n",
    "    # Generate the lower part of the diamond (mirrored upper part without the middle row)\n",
    "    for i in range(n - 1, 0, -1):\n",
    "        # Number of stars in the current row is 2 * i - 1\n",
    "        stars = '*' * (2 * i - 1)\n",
    "        # Number of leading spaces to center the stars is n - i\n",
    "        spaces = ' ' * (n - i)\n",
    "        # Add the centered row to the list\n",
    "        diamond.append(spaces + stars + spaces)\n",
    "    \n",
    "    # Return the list of diamond rows\n",
    "    return diamond"
   ]
  },
  {
   "cell_type": "code",
   "execution_count": 2,
   "metadata": {},
   "outputs": [
    {
     "data": {
      "text/plain": [
       "['    *    ',\n",
       " '   ***   ',\n",
       " '  *****  ',\n",
       " ' ******* ',\n",
       " '*********',\n",
       " ' ******* ',\n",
       " '  *****  ',\n",
       " '   ***   ',\n",
       " '    *    ']"
      ]
     },
     "execution_count": 2,
     "metadata": {},
     "output_type": "execute_result"
    }
   ],
   "source": [
    "generate_diamond(5)"
   ]
  },
  {
   "cell_type": "code",
   "execution_count": null,
   "metadata": {},
   "outputs": [],
   "source": []
  }
 ],
 "metadata": {
  "kernelspec": {
   "display_name": "myenv",
   "language": "python",
   "name": "python3"
  },
  "language_info": {
   "codemirror_mode": {
    "name": "ipython",
    "version": 3
   },
   "file_extension": ".py",
   "mimetype": "text/x-python",
   "name": "python",
   "nbconvert_exporter": "python",
   "pygments_lexer": "ipython3",
   "version": "3.10.9"
  }
 },
 "nbformat": 4,
 "nbformat_minor": 2
}
