{
 "cells": [
  {
   "cell_type": "markdown",
   "metadata": {},
   "source": [
    "#### Right Angled Triangle with Numbers\n",
    "\n",
    "Problem Description:\n",
    "\n",
    "You are given an integer n. Your task is to return a right-angled triangle pattern where each row contains repeated digits. The first row contains the number 1 repeated once, the second row contains the number 2 repeated twice, and so on until the nth row contains the number n repeated n times.\n",
    "\n",
    "\n",
    "Input:\n",
    "\n",
    "    A single integer n, where 1 <= n <= 100.\n",
    "\n",
    "\n",
    "Output:\n",
    "\n",
    "    A list of strings where each string represents a row in the triangle. The ith row contains the digit i repeated i times.\n",
    "\n",
    "\n",
    "Example:\n",
    "\n",
    "    Input: 5\n",
    "    Output: ['1', '22', '333', '4444', '55555']\n",
    "\n",
    "    Input: 3\n",
    "    Output: ['1', '22', '333']"
   ]
  },
  {
   "cell_type": "code",
   "execution_count": 1,
   "metadata": {},
   "outputs": [],
   "source": [
    "def generate_number_triangle(n):\n",
    "    \"\"\"\n",
    "    Function to return a right-angled triangle of repeated numbers of side n as a list of strings.\n",
    "    \n",
    "    Parameters:\n",
    "    n (int): The height of the triangle.\n",
    "    \n",
    "    Returns:\n",
    "    list: A list of strings where each string represents a row of the triangle.\n",
    "    \"\"\"\n",
    "    # Initialize an empty list to store the rows of the triangle\n",
    "    triangle = []\n",
    "    \n",
    "    # Loop through each row from 1 to n\n",
    "    for i in range(1, n + 1):\n",
    "        # Create a row with the digit i repeated i times\n",
    "        row = str(i) * i\n",
    "        # Add the row to the list\n",
    "        triangle.append(row)\n",
    "    \n",
    "    # Return the list of rows\n",
    "    return triangle"
   ]
  },
  {
   "cell_type": "code",
   "execution_count": 2,
   "metadata": {},
   "outputs": [
    {
     "data": {
      "text/plain": [
       "['1', '22', '333', '4444', '55555']"
      ]
     },
     "execution_count": 2,
     "metadata": {},
     "output_type": "execute_result"
    }
   ],
   "source": [
    "generate_number_triangle(5)"
   ]
  }
 ],
 "metadata": {
  "kernelspec": {
   "display_name": "myenv",
   "language": "python",
   "name": "python3"
  },
  "language_info": {
   "codemirror_mode": {
    "name": "ipython",
    "version": 3
   },
   "file_extension": ".py",
   "mimetype": "text/x-python",
   "name": "python",
   "nbconvert_exporter": "python",
   "pygments_lexer": "ipython3",
   "version": "3.10.9"
  }
 },
 "nbformat": 4,
 "nbformat_minor": 2
}
