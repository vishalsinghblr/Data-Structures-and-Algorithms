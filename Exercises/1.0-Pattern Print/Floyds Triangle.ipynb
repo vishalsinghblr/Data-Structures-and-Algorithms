{
 "cells": [
  {
   "cell_type": "markdown",
   "metadata": {},
   "source": [
    "#### Floyds Triangle\n",
    "\n",
    "Problem Description:\n",
    "\n",
    "You are given an integer n. Your task is to return the first n rows of Floyd’s Triangle, represented as a list of strings. Floyd's Triangle is a triangular array of natural numbers where the first row contains 1, the second row contains 2 and 3, the third row contains 4, 5, and 6, and so on.\n",
    "\n",
    "\n",
    "Input:\n",
    "\n",
    "    A single integer n, where 1 <= n <= 100.\n",
    "\n",
    "\n",
    "Output:\n",
    "\n",
    "    A list of strings where each string represents a row in Floyd's Triangle.\n",
    "\n",
    "\n",
    "Example:\n",
    "\n",
    "    Input: 5\n",
    "    Output: ['1', '2 3', '4 5 6', '7 8 9 10', '11 12 13 14 15']\n",
    "\n",
    "    Input: 3\n",
    "    Output: ['1', '2 3', '4 5 6']"
   ]
  },
  {
   "cell_type": "code",
   "execution_count": 1,
   "metadata": {},
   "outputs": [],
   "source": [
    "def generate_floyds_triangle(n):\n",
    "    \"\"\"\n",
    "    Function to return the first n rows of Floyd's Triangle as a list of strings.\n",
    "    \n",
    "    Parameters:\n",
    "    n (int): The number of rows in the triangle.\n",
    "    \n",
    "    Returns:\n",
    "    list: A list of strings where each string represents a row of Floyd's Triangle.\n",
    "    \"\"\"\n",
    "    # Initialize an empty list to store the rows of the triangle\n",
    "    triangle = []\n",
    "    \n",
    "    # Initialize the first number to be used in the triangle\n",
    "    current_num = 1\n",
    "    \n",
    "    # Loop through each row from 1 to n\n",
    "    for i in range(1, n + 1):\n",
    "        # Create a row by collecting the next i numbers\n",
    "        row = ' '.join(str(current_num + j) for j in range(i))\n",
    "        # Append the row to the list\n",
    "        triangle.append(row)\n",
    "        # Update the current number for the next row\n",
    "        current_num += i\n",
    "    \n",
    "    # Return the list of rows\n",
    "    return triangle"
   ]
  },
  {
   "cell_type": "code",
   "execution_count": 2,
   "metadata": {},
   "outputs": [
    {
     "data": {
      "text/plain": [
       "['1', '2 3', '4 5 6', '7 8 9 10', '11 12 13 14 15']"
      ]
     },
     "execution_count": 2,
     "metadata": {},
     "output_type": "execute_result"
    }
   ],
   "source": [
    "generate_floyds_triangle(5)"
   ]
  }
 ],
 "metadata": {
  "kernelspec": {
   "display_name": "myenv",
   "language": "python",
   "name": "python3"
  },
  "language_info": {
   "codemirror_mode": {
    "name": "ipython",
    "version": 3
   },
   "file_extension": ".py",
   "mimetype": "text/x-python",
   "name": "python",
   "nbconvert_exporter": "python",
   "pygments_lexer": "ipython3",
   "version": "3.10.9"
  }
 },
 "nbformat": 4,
 "nbformat_minor": 2
}
