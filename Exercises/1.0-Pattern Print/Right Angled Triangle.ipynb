{
 "cells": [
  {
   "cell_type": "markdown",
   "metadata": {},
   "source": [
    "#### Right Angled Triangle\n",
    "\n",
    "Problem Description:\n",
    "\n",
    "You are given an integer n. Your task is to return a right-angled triangle pattern of '*' where each side has n characters, represented as a list of strings. The triangle has '*' characters, starting with 1 star in the first row, 2 stars in the second row, and so on until the last row has n stars.\n",
    "\n",
    "\n",
    "Input Parameters:\n",
    "\n",
    "    n (int): The height and base of the right-angled triangle.\n",
    "\n",
    "\n",
    "Output:\n",
    "\n",
    "    A list of strings where each string is a row of '*' characters that increases in length from 1 to n.\n",
    "\n",
    "\n",
    "Example:\n",
    "\n",
    "    Input: 3\n",
    "    Output: ['*', '**', '***']\n",
    "\n",
    "    Input: 5\n",
    "    Output: ['*', '**', '***', '****', '*****']"
   ]
  },
  {
   "cell_type": "code",
   "execution_count": 1,
   "metadata": {},
   "outputs": [],
   "source": [
    "def generate_triangle(n):\n",
    "    \"\"\"\n",
    "    Function to return a right-angled triangle of '*' of side n as a list of strings.\n",
    "    \n",
    "    Parameters:\n",
    "    n (int): The height and base of the triangle.\n",
    "    \n",
    "    Returns:\n",
    "    list: A list of strings where each string represents a row of the triangle.\n",
    "    \"\"\"\n",
    "    # Initialize an empty list to store the rows of the triangle\n",
    "    triangle = []\n",
    "    \n",
    "    # Loop through each row from 1 to n\n",
    "    for i in range(1, n+1):\n",
    "        # Create a row with i '*' characters and append it to the list\n",
    "        triangle.append('*' * i)\n",
    "    \n",
    "    # Return the list of rows\n",
    "    return triangle"
   ]
  },
  {
   "cell_type": "code",
   "execution_count": 2,
   "metadata": {},
   "outputs": [
    {
     "data": {
      "text/plain": [
       "['*', '**', '***', '****', '*****']"
      ]
     },
     "execution_count": 2,
     "metadata": {},
     "output_type": "execute_result"
    }
   ],
   "source": [
    "generate_triangle(5)"
   ]
  },
  {
   "cell_type": "code",
   "execution_count": 3,
   "metadata": {},
   "outputs": [
    {
     "data": {
      "text/plain": [
       "['*', '**', '***']"
      ]
     },
     "execution_count": 3,
     "metadata": {},
     "output_type": "execute_result"
    }
   ],
   "source": [
    "generate_triangle(3)"
   ]
  }
 ],
 "metadata": {
  "kernelspec": {
   "display_name": "myenv",
   "language": "python",
   "name": "python3"
  },
  "language_info": {
   "codemirror_mode": {
    "name": "ipython",
    "version": 3
   },
   "file_extension": ".py",
   "mimetype": "text/x-python",
   "name": "python",
   "nbconvert_exporter": "python",
   "pygments_lexer": "ipython3",
   "version": "3.10.9"
  }
 },
 "nbformat": 4,
 "nbformat_minor": 2
}
