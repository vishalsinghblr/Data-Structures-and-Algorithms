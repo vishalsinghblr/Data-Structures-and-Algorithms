{
 "cells": [
  {
   "cell_type": "markdown",
   "metadata": {},
   "source": [
    "#### Right Angled Triangle II\n",
    "\n",
    "Problem Description:\n",
    "\n",
    "You are given an integer n. Your task is to return a right-angled triangle pattern of '*', where each row contains stars aligned to the right. The first row has one star, the second row has two stars, and so on, until the nth row has n stars.\n",
    "\n",
    "\n",
    "Input:\n",
    "\n",
    "    A single integer n, where 1 <= n <= 100.\n",
    "\n",
    "\n",
    "Output:\n",
    "\n",
    "    A list of strings where each string represents a row in the right-angled triangle, right-aligned.\n",
    "\n",
    "\n",
    "Example:\n",
    "\n",
    "    Input: 4\n",
    "    Output: ['   *', '  **', ' ***', '****']\n",
    "\n",
    "    Input: 3\n",
    "    Output: ['  *', ' **', '***']"
   ]
  },
  {
   "cell_type": "code",
   "execution_count": 1,
   "metadata": {},
   "outputs": [],
   "source": [
    "def generate_right_angled_triangle(n):\n",
    "    \"\"\"\n",
    "    Function to return a right-angled triangle of '*' of side n as a list of strings.\n",
    "    \n",
    "    Parameters:\n",
    "    n (int): The height of the triangle.\n",
    "    \n",
    "    Returns:\n",
    "    list: A list of strings where each string represents a row of the triangle.\n",
    "    \"\"\"\n",
    "    # Initialize an empty list to store the rows of the triangle\n",
    "    triangle = []\n",
    "    \n",
    "    # Loop through each row from 1 to n\n",
    "    for i in range(1, n + 1):\n",
    "        # Number of leading spaces is n - i\n",
    "        spaces = ' ' * (n - i)\n",
    "        # Number of stars is i\n",
    "        stars = '*' * i\n",
    "        # Add the right-aligned row to the list\n",
    "        triangle.append(spaces + stars)\n",
    "    \n",
    "    # Return the list of rows\n",
    "    return triangle"
   ]
  },
  {
   "cell_type": "code",
   "execution_count": 2,
   "metadata": {},
   "outputs": [
    {
     "data": {
      "text/plain": [
       "['    *', '   **', '  ***', ' ****', '*****']"
      ]
     },
     "execution_count": 2,
     "metadata": {},
     "output_type": "execute_result"
    }
   ],
   "source": [
    "generate_right_angled_triangle(5)"
   ]
  },
  {
   "cell_type": "code",
   "execution_count": null,
   "metadata": {},
   "outputs": [],
   "source": []
  }
 ],
 "metadata": {
  "kernelspec": {
   "display_name": "myenv",
   "language": "python",
   "name": "python3"
  },
  "language_info": {
   "codemirror_mode": {
    "name": "ipython",
    "version": 3
   },
   "file_extension": ".py",
   "mimetype": "text/x-python",
   "name": "python",
   "nbconvert_exporter": "python",
   "pygments_lexer": "ipython3",
   "version": "3.10.9"
  }
 },
 "nbformat": 4,
 "nbformat_minor": 2
}
