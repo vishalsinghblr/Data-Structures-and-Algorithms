{
 "cells": [
  {
   "cell_type": "markdown",
   "metadata": {},
   "source": [
    "#### Square of side 'N'\n",
    "\n",
    "Problem Description: \n",
    "\n",
    "You are given an integer n. Your task is to return a square pattern of size n x n made up of the character '*', represented as a list of strings.\n",
    "\n",
    "\n",
    "Input Parameters:\n",
    "\n",
    "    n (int): The size of the square (number of rows and columns).\n",
    "\n",
    "\n",
    "Output:\n",
    "\n",
    "    A list of strings where each string is a row of n characters.\n",
    "\n",
    "\n",
    "Example:\n",
    "\n",
    "    Input: 3\n",
    "    Output: ['***', '***', '***']\n",
    "    \n",
    "    Input: 5\n",
    "    Output: ['*****', '*****', '*****', '*****', '*****']"
   ]
  },
  {
   "cell_type": "markdown",
   "metadata": {},
   "source": []
  },
  {
   "cell_type": "code",
   "execution_count": 1,
   "metadata": {},
   "outputs": [],
   "source": [
    "def generate_square(n):\n",
    "    \"\"\"\n",
    "    Function to return a square pattern of '*' of side n as a list of strings.\n",
    "    \n",
    "    Parameters:\n",
    "    n (int): The size of the square.\n",
    "    \n",
    "    Returns:\n",
    "    list: A list of strings where each string represents a row of the square.\n",
    "    \"\"\"\n",
    "    # Initialize an empty list to store the rows of the square\n",
    "    square = []\n",
    "    \n",
    "    # Loop n times to generate each row\n",
    "    for i in range(n):\n",
    "        # Create a row of '*' of length n and append it to the list\n",
    "        square.append('*' * n)\n",
    "    \n",
    "    # Return the list of rows\n",
    "    return square"
   ]
  },
  {
   "cell_type": "code",
   "execution_count": 2,
   "metadata": {},
   "outputs": [
    {
     "data": {
      "text/plain": [
       "['***', '***', '***']"
      ]
     },
     "execution_count": 2,
     "metadata": {},
     "output_type": "execute_result"
    }
   ],
   "source": [
    "generate_square(3)"
   ]
  },
  {
   "cell_type": "code",
   "execution_count": 3,
   "metadata": {},
   "outputs": [
    {
     "data": {
      "text/plain": [
       "[]"
      ]
     },
     "execution_count": 3,
     "metadata": {},
     "output_type": "execute_result"
    }
   ],
   "source": [
    "generate_square(0)"
   ]
  },
  {
   "cell_type": "code",
   "execution_count": 4,
   "metadata": {},
   "outputs": [
    {
     "data": {
      "text/plain": [
       "['*****', '*****', '*****', '*****', '*****']"
      ]
     },
     "execution_count": 4,
     "metadata": {},
     "output_type": "execute_result"
    }
   ],
   "source": [
    "generate_square(5)"
   ]
  },
  {
   "cell_type": "code",
   "execution_count": null,
   "metadata": {},
   "outputs": [],
   "source": []
  }
 ],
 "metadata": {
  "kernelspec": {
   "display_name": "myenv",
   "language": "python",
   "name": "python3"
  },
  "language_info": {
   "codemirror_mode": {
    "name": "ipython",
    "version": 3
   },
   "file_extension": ".py",
   "mimetype": "text/x-python",
   "name": "python",
   "nbconvert_exporter": "python",
   "pygments_lexer": "ipython3",
   "version": "3.10.9"
  }
 },
 "nbformat": 4,
 "nbformat_minor": 2
}
